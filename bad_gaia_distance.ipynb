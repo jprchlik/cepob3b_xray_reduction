{
 "cells": [
  {
   "cell_type": "code",
   "execution_count": 90,
   "metadata": {},
   "outputs": [],
   "source": [
    "%matplotlib inline\n",
    "import matplotlib.pyplot as plt\n",
    "import numpy as np\n",
    "from astropy.table import Table, join\n",
    "from astropy.io.ascii import read\n",
    "from fancy_plot import fancy_plot"
   ]
  },
  {
   "cell_type": "code",
   "execution_count": 91,
   "metadata": {},
   "outputs": [],
   "source": [
    "#Read in csv fil\n",
    "cep = read('full_2MASS_query-result.csv')\n",
    "#Read in just spectroscopic sources for comparison\n",
    "cep_spec = read('cep_ob3b_dis.csv')\n",
    "\n"
   ]
  },
  {
   "cell_type": "code",
   "execution_count": 92,
   "metadata": {},
   "outputs": [
    {
     "name": "stdout",
     "output_type": "stream",
     "text": [
      "39\n",
      "     source_id      original_ext_source_id ...    par_diff_sig   \n",
      "------------------- ---------------------- ... ------------------\n",
      "2207262205420693888       22523670+6230553 ...  3.638629039350672\n",
      "2207262140997589760       22524793+6230571 ...  23.50578071828698\n",
      "2207262072278113536       22525102+6230436 ... 23.575980023513253\n",
      "2207279080343450752       22525120+6241051 ...  7.367731440819979\n",
      "2207262892615548288       22531574+6234357 ...  4.244364715712512\n",
      "2207276499071908224       22532966+6239056 ... 3.9132554411363007\n",
      "2207263412309198720       22534497+6234024 ...  7.379484125152234\n",
      "2207276881325611648       22540533+6240313 ... 3.8423582886665812\n",
      "2207270971450638592       22542713+6240522 ... 5.2351177528288595\n",
      "2207270765292218240       22542993+6240335 ...  3.619228135281522\n",
      "                ...                    ... ...                ...\n",
      "2207268665048936064       22560798+6241451 ...  6.153231076730823\n",
      "2207267638556155904       22561022+6240021 ...  4.550457420849835\n",
      "2207267947793816576       22561535+6239269 ...  3.169538400883926\n",
      "2207219908596258688       22562591+6236078 ...  5.945773903116252\n",
      "2207216167668161792       22562852+6232301 ...  5.118271747480965\n",
      "2207216339466859008       22563970+6232021 ... 3.2851300076593524\n",
      "2207244686250943616       22565821+6242543 ...  5.286116327808907\n",
      "2207244613232113280       22570134+6242133 ...  4.340387796972909\n",
      "2207243518019888000       22570917+6238560 ... 3.0305312608817827\n",
      "2207239154333138304       22570919+6233337 ...  5.697145874784794\n",
      "2207243346221206016       22571485+6237437 ...    9.6830562910765\n",
      "Length = 39 rows\n"
     ]
    }
   ],
   "source": [
    "#also find inconsistent distances\n",
    "cep_spec['par_diff'] = np.abs(cep_spec['parallax']-1.221-0.029)\n",
    "#cep_spec['par_diff_err'] = np.sqrt(0.024**2+cep_spec['parallax_error']**2)\n",
    "#Use sigma from fit rather than error in mean if using Gaussian assumption\n",
    "cep_spec['par_diff_err'] = np.sqrt(0.121**2+cep_spec['parallax_error']**2)\n",
    "cep_spec['par_diff_sig'] = cep_spec['par_diff']/cep_spec['par_diff_err']\n",
    "\n",
    "\n",
    "contamination_par, = np.where(cep_spec['par_diff_sig'] > 3.)\n",
    "print(contamination_par.size)\n",
    "cep_spec[contamination_par].pprint()\n"
   ]
  },
  {
   "cell_type": "code",
   "execution_count": 93,
   "metadata": {},
   "outputs": [],
   "source": [
    "non_cluster_par = cep_spec[contamination_par]"
   ]
  },
  {
   "cell_type": "code",
   "execution_count": 94,
   "metadata": {},
   "outputs": [],
   "source": [
    "non_cluster_par.rename_column('col1','2MASS')"
   ]
  },
  {
   "cell_type": "code",
   "execution_count": 95,
   "metadata": {},
   "outputs": [
    {
     "name": "stdout",
     "output_type": "stream",
     "text": [
      "<TableColumns names=('2MASS','YSO','Teff','SA','Lbol','HaEW','HaFlux','HaLum','HaFluxUnc','Av','GoodHa')>\n",
      "<TableColumns names=('2MASS','Cnts','AttXflux','AttXfluxUnc','UnattXflux','UnattXfluxUnc','XSurfaceFlux','XSurfaceFluxUnc')>\n"
     ]
    }
   ],
   "source": [
    "halp = read('table1.txt')\n",
    "xray = read('tablec3.txt')\n",
    "print(halp.columns)\n",
    "print(xray.columns)"
   ]
  },
  {
   "cell_type": "code",
   "execution_count": 96,
   "metadata": {},
   "outputs": [
    {
     "name": "stdout",
     "output_type": "stream",
     "text": [
      "<TableColumns names=('source_id','original_ext_source_id','gaia_astrometric_params','tmass_oid','number_of_neighbours','number_of_mates','best_neighbour_multiplicity','2MASS','parallax','parallax_error','pmra','pmdec','pmra_error','pmdec_error','ra','dec','par_diff','par_diff_err','par_diff_sig','YSO','Teff','SA','Lbol','HaEW','HaFlux','HaLum','HaFluxUnc','Av','GoodHa','Cnts','AttXflux','AttXfluxUnc','UnattXflux','UnattXfluxUnc','XSurfaceFlux','XSurfaceFluxUnc')>\n"
     ]
    }
   ],
   "source": [
    "test1 = join(non_cluster_par,halp,keys=['2MASS'])\n",
    "allpar= join(test1,xray,keys=['2MASS'])\n",
    "print(allpar.columns)"
   ]
  },
  {
   "cell_type": "code",
   "execution_count": 97,
   "metadata": {},
   "outputs": [
    {
     "name": "stdout",
     "output_type": "stream",
     "text": [
      "     2MASS       Teff YSO GoodHa  HaEW    HaFlux   Cnts XSurfaceFlux        parallax          parallax_error   \n",
      "       --         K    --   --   0.1 nm  mW / m2    --    [mW/m2]                                              \n",
      "---------------- ---- --- ------ ------ --------- ----- ------------ --------------------- --------------------\n",
      "22523670+6230553 3630 III yes \\\\   -9.3  1.36e+06    23         6.65    0.0364132498674219   0.3108059021592862\n",
      "22524793+6230571 6090 III yes \\\\    nan -8.70e+03    62         6.02     4.161206816063586 0.026419496193453657\n",
      "22525102+6230436 3630 III yes \\\\   -3.4  3.70e+06   138         6.61      4.23355971912786  0.03706900694162573\n",
      "22525120+6241051 3970  II yes \\\\   -8.5  1.45e+07 -9999         6.31   -0.5957774200926915  0.21936311803474765\n",
      "22531574+6234357 3770  II yes \\\\   -9.8  7.06e+06    55         6.37   -0.6368030331701493   0.4277587691655675\n",
      "22532966+6239056 3160  II yes \\\\  -41.5  7.89e+06 -9999         6.68      2.96479488416106  0.42116464962719674\n",
      "22534497+6234024 6100 III yes \\\\    0.6 -2.32e+06    70         6.43   0.27858084767069424 0.051841236945398585\n",
      "22540533+6240313 3770  II yes \\\\  -10.7  7.71e+06    51         6.49 -0.047538487988270726   0.3152708935785977\n",
      "22542713+6240522 5030  II yes \\\\  -52.4  1.26e+08    87         7.18    0.4556830955023996   0.0915453846555464\n",
      "22542993+6240335 3770 III yes \\\\   -4.0  5.41e+06    70         6.73   -0.2993884259853892  0.41064323624335247\n",
      "22543773+6229307 3630  II yes \\\\ -181.9  8.31e+07 -9999         6.21   -1.1293304001026874   0.5838623096369779\n",
      "22544431+6235183 5500 III yes \\\\    nan -1.53e+04 -9999         5.91     4.025871783494953  0.02797031963605674\n",
      "22544888+6233049 3630  II yes \\\\  -36.7  6.31e+07 -9999         6.09   -2.6511054853816964   0.6212687383152283\n",
      "22545815+6241327 3490  II yes \\\\  -50.0  8.30e+07 -9999         6.34    0.3608038084345479  0.18454564059508938\n",
      "22550031+6246239 9520  II yes \\\\  -25.7  1.41e+08 -9999         7.27 -0.002942251066024911   0.0883815769586812\n",
      "22552142+6240075 3160 III  no \\\\  -10.5  1.91e+06    18         6.83    0.4769580929806339  0.22155922355815194\n",
      "22552914+6235214 6140 III yes \\\\    2.6 -1.35e+07    17         6.85    0.6747668984225413  0.06779142212412186\n",
      "22553159+6245013 3630 III yes \\\\   -3.3  2.57e+06 -9999         6.36     3.902053418960718   0.5949561362248715\n",
      "22553834+6241177 3970  II yes \\\\   -7.2  1.24e+07   452         7.18     3.211187969443778   0.1742604100845002\n",
      "22554154+6239030 8720 III yes \\\\    9.8 -1.88e+08 -9999         6.13   -0.3626753798676123  0.18870010862401215\n",
      "22554173+6232098 3630 III yes \\\\  -10.1  6.38e+06   130         6.67   0.13553730433607816   0.2384559567683416\n",
      "22554749+6241576 3970 III yes \\\\   -3.3  5.08e+06 -9999         5.98   -0.7976892066187868  0.26218367912928975\n",
      "22555228+6249200 3490 III yes \\\\   -4.6  2.63e+06 -9999         6.22    2.6812307795819166  0.05098501906317268\n",
      "22555300+6244157 3160  II yes \\\\  -29.0  1.37e+07 -9999         6.24    -2.197578929464633   0.3288591676079059\n",
      "22555524+6243134 3770 III yes \\\\   -3.4  4.87e+06 -9999         6.45   -0.6567066889534701   0.2862473171773619\n",
      "22560068+6245310 3770 III yes \\\\   -3.6  4.93e+06 -9999         6.24   -2.4044081941348354   0.4414555694174546\n",
      "22560281+6245137 3970  II yes \\\\ -149.9  1.34e+08 -9999         6.11   -0.0323206620618657   0.2552812030895032\n",
      "22560790+6230425 6250 III yes \\\\    3.5 -8.12e+07 -9999         6.29    1.7536852565870413  0.04641666014769884\n",
      "22560798+6241451 3770  II yes \\\\  -45.9  4.84e+07 -9999         5.86     2.838929380735775  0.22812298848423576\n",
      "22561022+6240021 3970  II yes \\\\  -29.6  2.69e+07 -9999         5.66    2.6037040929641693  0.27176791275223044\n",
      "22561535+6239269 3490 III yes \\\\   -2.5  3.10e+06 -9999          6.3     0.637963333419074  0.15048742123589018\n",
      "22562591+6236078 3970  II  no \\\\    5.6 -1.26e+07 -9999         6.21   -0.8190187143517997   0.3262668436699618\n",
      "22562852+6232301 6250 III yes \\\\    3.6 -1.06e+08 -9999         6.26    1.8740271334054095 0.014961314941507951\n",
      "22563970+6232021 4020  II yes \\\\   -6.6  1.20e+07 -9999         6.05    0.5097575231751968  0.19008728459317892\n",
      "22565821+6242543 3490  II yes \\\\  -31.5  3.10e+07 -9999         6.28    0.0781841644265796  0.18574215312534378\n",
      "22570134+6242133 5500 III yes \\\\   -0.2  2.64e+05 -9999         5.87     3.027571127328937   0.3912590638977054\n",
      "22570917+6238560 4140  II  no \\\\    nan -1.73e+04 -9999         5.88    1.8801980885071927  0.16912149699152462\n",
      "22570919+6233337 6250 III yes \\\\    nan -1.96e+04 -9999         6.02    1.9438113723086339  0.01378121672100997\n",
      "22571485+6237437 6050 III yes \\\\    nan -3.36e+04 -9999         6.25     2.432867063644585 0.016783467565828224\n"
     ]
    }
   ],
   "source": [
    "allpar['2MASS','Teff','YSO','GoodHa','HaEW','HaFlux','Cnts','XSurfaceFlux','parallax','parallax_error'].pprint(max_lines=-1,max_width=-1)"
   ]
  },
  {
   "cell_type": "code",
   "execution_count": 98,
   "metadata": {},
   "outputs": [
    {
     "name": "stdout",
     "output_type": "stream",
     "text": [
      "     source_id      original_ext_source_id ... visibility_periods_used\n",
      "------------------- ---------------------- ... -----------------------\n",
      "2207181631839430784       22501421+6225502 ...                      15\n",
      "2207261277707746176       22524912+6229208 ...                      16\n",
      "2207262823896034304       22530261+6233395 ...                      11\n",
      "2207281034554977024       22532592+6245475 ...                      17\n",
      "2207264507524227584       22534250+6236413 ...                       4\n",
      "2207270692273403392       22542529+6239310 ...                      15\n",
      "2207266191153157760       22553701+6237109 ...                      15\n",
      "2207285436900413952       22554207+6251409 ...                      18\n",
      "2207216717420956032       22570044+6234437 ...                      14\n",
      "2207226986693365632       22571626+6229227 ...                       4\n",
      "                ...                    ... ...                     ...\n",
      "2207244063478352256       22573122+6241466 ...                      18\n",
      "2207292274489132928       22573237+6246282 ...                      19\n",
      "2207244961129425664       22573236+6244291 ...                      11\n",
      "2207245167283461888       22573236+6244291 ...                      15\n",
      "2207244132195824768       22573484+6242582 ...                      18\n",
      "2207244067776264448       22573867+6242246 ...                      17\n",
      "2207240563083009536       22574367+6238126 ...                      18\n",
      "2207240941040115456       22574507+6239554 ...                      18\n",
      "2207240558782158976       22574629+6238164 ...                      17\n",
      "2207239665428553600       22575010+6236180 ...                      17\n",
      "2207240700521958016       22580160+6240109 ...                      18\n",
      "Length = 2301 rows\n",
      "<TableColumns names=('source_id','original_ext_source_id','gaia_astrometric_params','tmass_oid','number_of_neighbours','number_of_mates','best_neighbour_multiplicity','2MASS','parallax','parallax_error','pmra','pmdec','pmra_error','pmdec_error','ra','dec','astrometric_chi2_al','astrometric_n_good_obs_al','phot_bp_rp_excess_factor','bp_rp','bp_g','phot_g_mean_mag','g_rp','phot_bp_mean_mag','visibility_periods_used')>\n"
     ]
    }
   ],
   "source": [
    "full_gaias = read('full_2MASS_query_error_arenou_2018-result.csv')\n",
    "full_gaias.pprint()\n",
    "full_gaias.rename_column('col2mass','2MASS')\n",
    "print(full_gaias.columns)\n"
   ]
  },
  {
   "cell_type": "code",
   "execution_count": 99,
   "metadata": {},
   "outputs": [],
   "source": [
    "allpar= join(allpar,full_gaias,keys=['2MASS'])"
   ]
  },
  {
   "cell_type": "code",
   "execution_count": 100,
   "metadata": {},
   "outputs": [],
   "source": [
    "#U used in equation 1 in Arenou et al. (2018)\n",
    "allpar['u'] = np.sqrt(allpar['astrometric_chi2_al']/(allpar['astrometric_n_good_obs_al']-5))"
   ]
  },
  {
   "cell_type": "code",
   "execution_count": 101,
   "metadata": {},
   "outputs": [],
   "source": [
    "#Exponetial part of equation 1 in Arenou et al. (2018)\n",
    "allpar['u_comp_exp'] = np.exp(-0.2*(allpar['phot_g_mean_mag']-19.5))"
   ]
  },
  {
   "cell_type": "code",
   "execution_count": 102,
   "metadata": {},
   "outputs": [],
   "source": [
    "#set values less than 1 equal to 1\n",
    "allpar['u_comp_exp'][allpar['u_comp_exp'] < 1.] = 1."
   ]
  },
  {
   "cell_type": "code",
   "execution_count": 103,
   "metadata": {},
   "outputs": [],
   "source": [
    "#Good measurements Arenou et al. (2015) Section 4.1\n",
    "#https://www.aanda.org/articles/aa/full_html/2018/08/aa33234-18/aa33234-18.html#S11\n",
    "#OR Lindegren et al. (2018) Section C.3\n",
    "allpar['u_pass'] = allpar['u'] < 1.2*allpar['u_comp_exp']\n",
    "allpar['c_pass'] = ((allpar['phot_bp_rp_excess_factor'] > 1.0+0.015*allpar['bp_rp']**2) &\n",
    "                    (allpar['phot_bp_rp_excess_factor'] < 1.3+0.06*allpar['bp_rp']**2))\n",
    "allpar['v_pass'] = allpar['visibility_periods_used'] > 8"
   ]
  },
  {
   "cell_type": "code",
   "execution_count": 104,
   "metadata": {},
   "outputs": [
    {
     "name": "stdout",
     "output_type": "stream",
     "text": [
      "     2MASS       Teff YSO GoodHa  HaEW    HaFlux   Cnts XSurfaceFlux u_pass c_pass v_pass\n",
      "       --         K    --   --   0.1 nm  mW / m2    --    [mW/m2]                        \n",
      "---------------- ---- --- ------ ------ --------- ----- ------------ ------ ------ ------\n",
      "22523670+6230553 3630 III yes \\\\   -9.3  1.36e+06    23         6.65  False  False   True\n",
      "22524793+6230571 6090 III yes \\\\    nan -8.70e+03    62         6.02   True   True   True\n",
      "22525102+6230436 3630 III yes \\\\   -3.4  3.70e+06   138         6.61   True   True   True\n",
      "22525120+6241051 3970  II yes \\\\   -8.5  1.45e+07 -9999         6.31  False  False   True\n",
      "22531574+6234357 3770  II yes \\\\   -9.8  7.06e+06    55         6.37  False   True   True\n",
      "22532966+6239056 3160  II yes \\\\  -41.5  7.89e+06 -9999         6.68  False  False   True\n",
      "22534497+6234024 6100 III yes \\\\    0.6 -2.32e+06    70         6.43   True   True   True\n",
      "22540533+6240313 3770  II yes \\\\  -10.7  7.71e+06    51         6.49  False   True   True\n",
      "22542713+6240522 5030  II yes \\\\  -52.4  1.26e+08    87         7.18  False   True   True\n",
      "22542993+6240335 3770 III yes \\\\   -4.0  5.41e+06    70         6.73  False   True   True\n",
      "22543773+6229307 3630  II yes \\\\ -181.9  8.31e+07 -9999         6.21  False  False   True\n",
      "22544431+6235183 5500 III yes \\\\    nan -1.53e+04 -9999         5.91   True   True   True\n",
      "22544888+6233049 3630  II yes \\\\  -36.7  6.31e+07 -9999         6.09  False  False   True\n",
      "22545815+6241327 3490  II yes \\\\  -50.0  8.30e+07 -9999         6.34  False   True   True\n",
      "22550031+6246239 9520  II yes \\\\  -25.7  1.41e+08 -9999         7.27   True   True   True\n",
      "22552142+6240075 3160 III  no \\\\  -10.5  1.91e+06    18         6.83   True   True   True\n",
      "22552914+6235214 6140 III yes \\\\    2.6 -1.35e+07    17         6.85   True   True   True\n",
      "22553159+6245013 3630 III yes \\\\   -3.3  2.57e+06 -9999         6.36  False  False   True\n",
      "22553159+6245013 3630 III yes \\\\   -3.3  2.57e+06 -9999         6.36   True     --  False\n",
      "22553834+6241177 3970  II yes \\\\   -7.2  1.24e+07   452         7.18  False   True   True\n",
      "22554154+6239030 8720 III yes \\\\    9.8 -1.88e+08 -9999         6.13  False   True   True\n",
      "22554173+6232098 3630 III yes \\\\  -10.1  6.38e+06   130         6.67  False   True   True\n",
      "22554749+6241576 3970 III yes \\\\   -3.3  5.08e+06 -9999         5.98   True     --  False\n",
      "22554749+6241576 3970 III yes \\\\   -3.3  5.08e+06 -9999         5.98  False   True   True\n",
      "22555228+6249200 3490 III yes \\\\   -4.6  2.63e+06 -9999         6.22   True   True   True\n",
      "22555300+6244157 3160  II yes \\\\  -29.0  1.37e+07 -9999         6.24  False  False   True\n",
      "22555524+6243134 3770 III yes \\\\   -3.4  4.87e+06 -9999         6.45  False   True   True\n",
      "22560068+6245310 3770 III yes \\\\   -3.6  4.93e+06 -9999         6.24  False   True   True\n",
      "22560281+6245137 3970  II yes \\\\ -149.9  1.34e+08 -9999         6.11  False   True   True\n",
      "22560790+6230425 6250 III yes \\\\    3.5 -8.12e+07 -9999         6.29   True   True   True\n",
      "22560798+6241451 3770  II yes \\\\  -45.9  4.84e+07 -9999         5.86  False   True   True\n",
      "22561022+6240021 3970  II yes \\\\  -29.6  2.69e+07 -9999         5.66  False   True   True\n",
      "22561535+6239269 3490 III yes \\\\   -2.5  3.10e+06 -9999          6.3  False   True   True\n",
      "22562591+6236078 3970  II  no \\\\    5.6 -1.26e+07 -9999         6.21  False  False   True\n",
      "22562852+6232301 6250 III yes \\\\    3.6 -1.06e+08 -9999         6.26   True   True   True\n",
      "22563970+6232021 4020  II yes \\\\   -6.6  1.20e+07 -9999         6.05  False   True   True\n",
      "22565821+6242543 3490  II yes \\\\  -31.5  3.10e+07 -9999         6.28  False   True   True\n",
      "22565821+6242543 3490  II yes \\\\  -31.5  3.10e+07 -9999         6.28  False     --  False\n",
      "22570134+6242133 5500 III yes \\\\   -0.2  2.64e+05 -9999         5.87  False   True   True\n",
      "22570917+6238560 4140  II  no \\\\    nan -1.73e+04 -9999         5.88  False   True   True\n",
      "22570919+6233337 6250 III yes \\\\    nan -1.96e+04 -9999         6.02   True   True   True\n"
     ]
    }
   ],
   "source": [
    "#print table of bad distances\n",
    "allpar['2MASS','Teff','YSO','GoodHa','HaEW','HaFlux','Cnts','XSurfaceFlux','u_pass','c_pass','v_pass'].pprint(max_lines=-1,max_width=-1)"
   ]
  },
  {
   "cell_type": "code",
   "execution_count": 105,
   "metadata": {},
   "outputs": [
    {
     "name": "stdout",
     "output_type": "stream",
     "text": [
      "     2MASS       Teff YSO GoodHa  HaEW    HaFlux   Cnts u_pass c_pass v_pass       parallax_1        parallax_error_1  \n",
      "       --         K    --   --   0.1 nm  mW / m2    --                                                                 \n",
      "---------------- ---- --- ------ ------ --------- ----- ------ ------ ------ --------------------- --------------------\n",
      "22524793+6230571 6090 III yes \\\\    nan -8.70e+03    62   True   True   True     4.161206816063586 0.026419496193453657\n",
      "22525102+6230436 3630 III yes \\\\   -3.4  3.70e+06   138   True   True   True      4.23355971912786  0.03706900694162573\n",
      "22534497+6234024 6100 III yes \\\\    0.6 -2.32e+06    70   True   True   True   0.27858084767069424 0.051841236945398585\n",
      "22550031+6246239 9520  II yes \\\\  -25.7  1.41e+08 -9999   True   True   True -0.002942251066024911   0.0883815769586812\n",
      "22552142+6240075 3160 III  no \\\\  -10.5  1.91e+06    18   True   True   True    0.4769580929806339  0.22155922355815194\n",
      "22552914+6235214 6140 III yes \\\\    2.6 -1.35e+07    17   True   True   True    0.6747668984225413  0.06779142212412186\n",
      "22555228+6249200 3490 III yes \\\\   -4.6  2.63e+06 -9999   True   True   True    2.6812307795819166  0.05098501906317268\n"
     ]
    },
    {
     "name": "stderr",
     "output_type": "stream",
     "text": [
      "/home/jakub/anaconda/envs/py36/lib/python3.6/site-packages/ipykernel_launcher.py:2: RuntimeWarning: invalid value encountered in less\n",
      "  \n"
     ]
    }
   ],
   "source": [
    "#Print table of bad distance that could affect our results\n",
    "poss_ha = ( allpar['HaEW'].data.data.astype('float') < 0.)\n",
    "poss_xr = (allpar['Cnts'].data.data.astype('float') > 0)\n",
    "poss_ga = (allpar['u_pass'] & allpar['c_pass'] & allpar['v_pass'])\n",
    "\n",
    "poss_ct = (((poss_ha) | (poss_xr)) & (poss_ga))\n",
    "badpar = allpar[poss_ct]\n",
    "badpar['2MASS','Teff','YSO','GoodHa','HaEW','HaFlux','Cnts','u_pass','c_pass','v_pass','parallax_1','parallax_error_1'].pprint(max_lines=-1,max_width=-1)\n"
   ]
  },
  {
   "cell_type": "code",
   "execution_count": 106,
   "metadata": {},
   "outputs": [
    {
     "name": "stdout",
     "output_type": "stream",
     "text": [
      "Gaussian Expected 0.123\n",
      "Actual Measured  7\n"
     ]
    }
   ],
   "source": [
    "#Expected stars beyond 3 sigma from the mean from a Gaussian distribution compared to measured\n",
    "print('Gaussian Expected',len(allpar)*0.003)\n",
    "print('Actual Measured ',len(badpar))"
   ]
  },
  {
   "cell_type": "code",
   "execution_count": 107,
   "metadata": {},
   "outputs": [],
   "source": [
    "#Plot bad guys on HR diagram\n",
    "names = ['SEP','log10_isochrone_age_yr','initial_mass','star_mass',\n",
    "         'log_Teff','log_g','log_L','[Fe/H]_init','[Fe/H]','Bessell_U',\n",
    "         'Bessell_B','Bessell_V','Bessell_R','Bessell_I','2MASS_J','2MASS_H',\n",
    "         '2MASS_Ks','Kepler_Kp','Kepler_D51','Hipparcos_Hp','Tycho_B','Tycho_V',\n",
    "         'Gaia_G_DR2Rev','Gaia_BP_DR2Rev','Gaia_RP_DR2Rev','TESS','phase']\n",
    "\n",
    "\n",
    "tracks = read('MIST_v1.2_vvcrit0.4_UBVRIplus/MIST_v1.2_feh_p0.00_afe_p0.0_vvcrit0.4_UBVRIplus.iso.cmd',names=names)"
   ]
  },
  {
   "cell_type": "code",
   "execution_count": 108,
   "metadata": {},
   "outputs": [],
   "source": [
    "years = np.unique(tracks['log10_isochrone_age_yr'])\n",
    "mass  = np.unique(tracks['initial_mass'])\n"
   ]
  },
  {
   "cell_type": "code",
   "execution_count": 109,
   "metadata": {},
   "outputs": [
    {
     "name": "stderr",
     "output_type": "stream",
     "text": [
      "/home/jakub/anaconda/envs/py36/lib/python3.6/site-packages/ipykernel_launcher.py:2: RuntimeWarning: invalid value encountered in log10\n",
      "  \n"
     ]
    }
   ],
   "source": [
    "#distance modulus m-M = 5log(d/10)\n",
    "badpar['mu'] = 5.*np.log10(1.e3/badpar['parallax_1']/10)\n",
    "badpar['mu_unc'] = -5*badpar['parallax_error_1']/(np.log(10)*badpar['parallax_1'])\n",
    "badpar['MG_gaia'] = badpar['phot_g_mean_mag']-badpar['mu']\n",
    "#Jordi et al 2008\n",
    "#Table 8\n",
    "#For Aλ=550= 1 AG/AV 0.9500 -0.1569 0.0210 -0.0010 0.01\n",
    "#For Aλ=550= 3 AG/AV 0.8929 -0.1378 0.0186 -0.0008 0.01\n",
    "#For Aλ=550= 5 AG/AV 0.8426 -0.1187 0.0157 -0.0007 0.01\n",
    "badpar['MG_gaia'] -= badpar['Av']*0.9"
   ]
  },
  {
   "cell_type": "code",
   "execution_count": 123,
   "metadata": {},
   "outputs": [
    {
     "name": "stderr",
     "output_type": "stream",
     "text": [
      "/home/jakub/anaconda/envs/py36/lib/python3.6/site-packages/numpy/core/numeric.py:492: UserWarning: Warning: converting a masked element to nan.\n",
      "  return array(a, dtype, copy=False, order=order)\n"
     ]
    },
    {
     "data": {
      "image/png": "[encoded data removed]",
      "text/plain": [
       "<matplotlib.figure.Figure at 0x7f9979b1f518>"
      ]
     },
     "metadata": {},
     "output_type": "display_data"
    }
   ],
   "source": [
    "\n",
    "fig, ax = plt.subplots()\n",
    "#log years\n",
    "use_year = [np.log10(1E6),np.log10(2E6),np.log10(5e6),\n",
    "            np.log10(1e7),np.log10(2E7),np.log10(5e7),\n",
    "            np.log10(1e8),np.log10(5e8),np.log10(1e9)]\n",
    "for i in use_year:\n",
    "    this_age, = np.where((tracks['log10_isochrone_age_yr'] == i) & (tracks['Gaia_G_DR2Rev'] > 2))\n",
    "    if this_age.size == 0: continue\n",
    "    ax.plot(tracks['log_Teff'][this_age],tracks['Gaia_G_DR2Rev'][this_age],color='black',linestyle='--')\n",
    "    dum = np.abs(tracks['log_Teff'][this_age]-3.7)\n",
    "    close37, = np.where(dum == dum.min())\n",
    "    ax.text(3.7+np.random.uniform(-0.005,0.005),tracks['Gaia_G_DR2Rev'][this_age][close37],'log({0:2.1f})yr'.format(i))\n",
    "\n",
    "ax.errorbar(np.log10(badpar['Teff']),badpar['MG_gaia'],color='black',yerr=badpar['mu_unc'],fmt='o')\n",
    "ax.set_xlabel('log(Teff)')\n",
    "ax.set_ylabel('G [GAIA]')\n",
    "ax.set_xlim([3.9,3.4])\n",
    "ax.set_ylim([9,-1])\n",
    "fancy_plot(ax)\n",
    "fig.savefig('hr_diagram_gaia.png',bbox_pad=.1,bbox_inches='tight')\n",
    "\n",
    "plt.show()"
   ]
  },
  {
   "cell_type": "code",
   "execution_count": 111,
   "metadata": {},
   "outputs": [],
   "source": [
    "from scipy.special import erf"
   ]
  },
  {
   "cell_type": "code",
   "execution_count": 112,
   "metadata": {},
   "outputs": [],
   "source": [
    "#add new GAIA uncertainty paramers\n",
    "cep_spec.rename_column('col1','2MASS')\n",
    "cep_spec= join(cep_spec,full_gaias,keys=['2MASS'])\n",
    "\n"
   ]
  },
  {
   "cell_type": "code",
   "execution_count": 113,
   "metadata": {},
   "outputs": [],
   "source": [
    "cep_spec = join(cep_spec,halp,keys=['2MASS'])\n",
    "cep_spec= join(cep_spec,xray,keys=['2MASS'])"
   ]
  },
  {
   "cell_type": "code",
   "execution_count": 114,
   "metadata": {},
   "outputs": [
    {
     "name": "stderr",
     "output_type": "stream",
     "text": [
      "/home/jakub/anaconda/envs/py36/lib/python3.6/site-packages/ipykernel_launcher.py:2: RuntimeWarning: invalid value encountered in less\n",
      "  \n"
     ]
    }
   ],
   "source": [
    "#Stars used in our analysis\n",
    "poss_ha = ( cep_spec['HaEW'].data.data.astype('float') < 0.)\n",
    "poss_xr = (cep_spec['Cnts'].data.data.astype('float') > 0)\n",
    "\n",
    "#U used in equation 1 in Arenou et al. (2018)\n",
    "cep_spec['u'] = np.sqrt(cep_spec['astrometric_chi2_al']/(cep_spec['astrometric_n_good_obs_al']-5))\n",
    "\n",
    "#Exponetial part of equation 1 in Arenou et al. (2018)\n",
    "cep_spec['u_comp_exp'] = np.exp(-0.2*(cep_spec['phot_g_mean_mag']-19.5))\n",
    "\n",
    "#set values less than 1 equal to 1\n",
    "cep_spec['u_comp_exp'][cep_spec['u_comp_exp'] < 1.] = 1.\n",
    "\n",
    "#Good measurements Arenou et al. (2015) Section 4.1\n",
    "#https://www.aanda.org/articles/aa/full_html/2018/08/aa33234-18/aa33234-18.html#S11\n",
    "#OR Lindegren et al. (2018) Section C.3\n",
    "cep_spec['u_pass'] = cep_spec['u'] < 1.2*cep_spec['u_comp_exp']\n",
    "cep_spec['c_pass'] = ((cep_spec['phot_bp_rp_excess_factor'] > 1.0+0.015*cep_spec['bp_rp']**2) &\n",
    "                    (cep_spec['phot_bp_rp_excess_factor'] < 1.3+0.06*cep_spec['bp_rp']**2))\n",
    "cep_spec['v_pass'] = cep_spec['visibility_periods_used'] > 8\n",
    "\n",
    "poss_spec = (cep_spec['u_pass'] & cep_spec['c_pass'] & cep_spec['v_pass'] & (poss_ha  | poss_xr))\n",
    "\n",
    "\n",
    "cep_spec = cep_spec[poss_spec]"
   ]
  },
  {
   "cell_type": "code",
   "execution_count": 122,
   "metadata": {},
   "outputs": [
    {
     "data": {
      "image/png": "[encoded data removed]",
      "text/plain": [
       "<matplotlib.figure.Figure at 0x7f997995b5c0>"
      ]
     },
     "metadata": {},
     "output_type": "display_data"
    }
   ],
   "source": [
    "#Compare difference in \"good\" sigma to normal distribution\n",
    "#\n",
    "\n",
    "fig, ax = plt.subplots()\n",
    "ax.plot(np.sort(cep_spec['par_diff_sig']),cep_spec['par_diff_sig'].size-\n",
    "        np.arange(cep_spec['par_diff_sig'].size),linewidth=3,color='red',linestyle='--',label='Spec. Samp.') \n",
    "\n",
    "samps= 1000\n",
    "xs = np.random.normal(size=samps)\n",
    "ys = np.linspace(cep_spec['par_diff_sig'].size,0,samps)\n",
    "\n",
    "ax.plot(np.sort(np.abs(xs)),ys,color='black',linewidth=3,label='Gaussian')\n",
    "\n",
    "ax.set_xlabel('n$\\sigma$')\n",
    "ax.set_ylabel('Cumulative Distribution of Stars')\n",
    "ax.set_xlim([0.,5.])\n",
    "ax.legend(loc='upper right',frameon=False)\n",
    "fancy_plot(ax)\n",
    "fig.savefig('cumla_dis_gaia.png',bbox_pad=.1,bbox_inches='tight')\n",
    "plt.show()"
   ]
  },
  {
   "cell_type": "code",
   "execution_count": null,
   "metadata": {},
   "outputs": [],
   "source": []
  },
  {
   "cell_type": "code",
   "execution_count": null,
   "metadata": {},
   "outputs": [],
   "source": []
  }
 ],
 "metadata": {
  "kernelspec": {
   "display_name": "Python 3",
   "language": "python",
   "name": "python3"
  },
  "language_info": {
   "codemirror_mode": {
    "name": "ipython",
    "version": 3
   },
   "file_extension": ".py",
   "mimetype": "text/x-python",
   "name": "python",
   "nbconvert_exporter": "python",
   "pygments_lexer": "ipython3",
   "version": "3.6.4"
  }
 },
 "nbformat": 4,
 "nbformat_minor": 2
}
